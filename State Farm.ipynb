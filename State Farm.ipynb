{
 "cells": [
  {
   "cell_type": "markdown",
   "metadata": {},
   "source": [
    "# INTRODUCTION:"
   ]
  },
  {
   "cell_type": "markdown",
   "metadata": {},
   "source": [
    "The problem posed is prediction of continuous dependent variable i.e. interest rate from a suitable combination of independent variables, the general approach to the problem is trying to build a linear relational model as a basic benchmark model and later on building more generalized models to improve the accuracy of predictions by simultaneously aiming to reduce the error rate.\n"
   ]
  },
  {
   "cell_type": "markdown",
   "metadata": {},
   "source": [
    "Loading the helper packages."
   ]
  },
  {
   "cell_type": "code",
   "execution_count": 386,
   "metadata": {
    "collapsed": true
   },
   "outputs": [],
   "source": [
    "import pandas as pd\n",
    "import matplotlib.pyplot as plt\n",
    "%matplotlib inline\n",
    "import seaborn as sns\n",
    "import numpy as np\n",
    "import warnings\n",
    "warnings.filterwarnings('ignore')"
   ]
  },
  {
   "cell_type": "markdown",
   "metadata": {},
   "source": [
    "Loading the data into pandas and getting a feel for it. As we can see the data needs a lot of cleaning before proceeding to analysis."
   ]
  },
  {
   "cell_type": "code",
   "execution_count": 484,
   "metadata": {
    "collapsed": false
   },
   "outputs": [],
   "source": [
    "cmpltdf=pd.read_csv('C:/Users/Raj/Desktop/sf work assignment.6.8.2016 (1)/Data for Cleaning & Modeling.csv')"
   ]
  },
  {
   "cell_type": "code",
   "execution_count": 485,
   "metadata": {
    "collapsed": false
   },
   "outputs": [
    {
     "data": {
      "text/html": [
       "<div>\n",
       "<table border=\"1\" class=\"dataframe\">\n",
       "  <thead>\n",
       "    <tr style=\"text-align: right;\">\n",
       "      <th></th>\n",
       "      <th>X1</th>\n",
       "      <th>X2</th>\n",
       "      <th>X3</th>\n",
       "      <th>X4</th>\n",
       "      <th>X5</th>\n",
       "      <th>X6</th>\n",
       "      <th>X7</th>\n",
       "      <th>X8</th>\n",
       "      <th>X9</th>\n",
       "      <th>X10</th>\n",
       "      <th>...</th>\n",
       "      <th>X23</th>\n",
       "      <th>X24</th>\n",
       "      <th>X25</th>\n",
       "      <th>X26</th>\n",
       "      <th>X27</th>\n",
       "      <th>X28</th>\n",
       "      <th>X29</th>\n",
       "      <th>X30</th>\n",
       "      <th>X31</th>\n",
       "      <th>X32</th>\n",
       "    </tr>\n",
       "  </thead>\n",
       "  <tbody>\n",
       "    <tr>\n",
       "      <th>0</th>\n",
       "      <td>11.89%</td>\n",
       "      <td>54734</td>\n",
       "      <td>80364</td>\n",
       "      <td>$25,000</td>\n",
       "      <td>$25,000</td>\n",
       "      <td>$19,080</td>\n",
       "      <td>36 months</td>\n",
       "      <td>B</td>\n",
       "      <td>B4</td>\n",
       "      <td>NaN</td>\n",
       "      <td>...</td>\n",
       "      <td>2/1/1994</td>\n",
       "      <td>0</td>\n",
       "      <td>NaN</td>\n",
       "      <td>NaN</td>\n",
       "      <td>10</td>\n",
       "      <td>0</td>\n",
       "      <td>28854</td>\n",
       "      <td>52.10%</td>\n",
       "      <td>42</td>\n",
       "      <td>f</td>\n",
       "    </tr>\n",
       "    <tr>\n",
       "      <th>1</th>\n",
       "      <td>10.71%</td>\n",
       "      <td>55742</td>\n",
       "      <td>114426</td>\n",
       "      <td>$7,000</td>\n",
       "      <td>$7,000</td>\n",
       "      <td>$673</td>\n",
       "      <td>36 months</td>\n",
       "      <td>B</td>\n",
       "      <td>B5</td>\n",
       "      <td>CNN</td>\n",
       "      <td>...</td>\n",
       "      <td>10/1/2000</td>\n",
       "      <td>0</td>\n",
       "      <td>NaN</td>\n",
       "      <td>NaN</td>\n",
       "      <td>7</td>\n",
       "      <td>0</td>\n",
       "      <td>33623</td>\n",
       "      <td>76.70%</td>\n",
       "      <td>7</td>\n",
       "      <td>f</td>\n",
       "    </tr>\n",
       "    <tr>\n",
       "      <th>2</th>\n",
       "      <td>16.99%</td>\n",
       "      <td>57167</td>\n",
       "      <td>137225</td>\n",
       "      <td>$25,000</td>\n",
       "      <td>$25,000</td>\n",
       "      <td>$24,725</td>\n",
       "      <td>36 months</td>\n",
       "      <td>D</td>\n",
       "      <td>D3</td>\n",
       "      <td>Web Programmer</td>\n",
       "      <td>...</td>\n",
       "      <td>6/1/2000</td>\n",
       "      <td>0</td>\n",
       "      <td>41</td>\n",
       "      <td>NaN</td>\n",
       "      <td>10</td>\n",
       "      <td>0</td>\n",
       "      <td>19878</td>\n",
       "      <td>66.30%</td>\n",
       "      <td>17</td>\n",
       "      <td>f</td>\n",
       "    </tr>\n",
       "    <tr>\n",
       "      <th>3</th>\n",
       "      <td>13.11%</td>\n",
       "      <td>57245</td>\n",
       "      <td>138150</td>\n",
       "      <td>$1,200</td>\n",
       "      <td>$1,200</td>\n",
       "      <td>$1,200</td>\n",
       "      <td>36 months</td>\n",
       "      <td>C</td>\n",
       "      <td>C2</td>\n",
       "      <td>city of beaumont texas</td>\n",
       "      <td>...</td>\n",
       "      <td>1/1/1985</td>\n",
       "      <td>0</td>\n",
       "      <td>64</td>\n",
       "      <td>NaN</td>\n",
       "      <td>5</td>\n",
       "      <td>0</td>\n",
       "      <td>2584</td>\n",
       "      <td>40.40%</td>\n",
       "      <td>31</td>\n",
       "      <td>f</td>\n",
       "    </tr>\n",
       "    <tr>\n",
       "      <th>4</th>\n",
       "      <td>13.57%</td>\n",
       "      <td>57416</td>\n",
       "      <td>139635</td>\n",
       "      <td>$10,800</td>\n",
       "      <td>$10,800</td>\n",
       "      <td>$10,692</td>\n",
       "      <td>36 months</td>\n",
       "      <td>C</td>\n",
       "      <td>C3</td>\n",
       "      <td>State Farm Insurance</td>\n",
       "      <td>...</td>\n",
       "      <td>12/1/1996</td>\n",
       "      <td>1</td>\n",
       "      <td>58</td>\n",
       "      <td>NaN</td>\n",
       "      <td>14</td>\n",
       "      <td>0</td>\n",
       "      <td>3511</td>\n",
       "      <td>25.60%</td>\n",
       "      <td>40</td>\n",
       "      <td>f</td>\n",
       "    </tr>\n",
       "  </tbody>\n",
       "</table>\n",
       "<p>5 rows × 32 columns</p>\n",
       "</div>"
      ],
      "text/plain": [
       "       X1     X2      X3        X4        X5        X6          X7 X8  X9  \\\n",
       "0  11.89%  54734   80364  $25,000   $25,000   $19,080    36 months  B  B4   \n",
       "1  10.71%  55742  114426   $7,000    $7,000      $673    36 months  B  B5   \n",
       "2  16.99%  57167  137225  $25,000   $25,000   $24,725    36 months  D  D3   \n",
       "3  13.11%  57245  138150   $1,200    $1,200    $1,200    36 months  C  C2   \n",
       "4  13.57%  57416  139635  $10,800   $10,800   $10,692    36 months  C  C3   \n",
       "\n",
       "                      X10 ...        X23 X24  X25 X26 X27 X28    X29     X30  \\\n",
       "0                     NaN ...   2/1/1994   0  NaN NaN  10   0  28854  52.10%   \n",
       "1                     CNN ...  10/1/2000   0  NaN NaN   7   0  33623  76.70%   \n",
       "2          Web Programmer ...   6/1/2000   0   41 NaN  10   0  19878  66.30%   \n",
       "3  city of beaumont texas ...   1/1/1985   0   64 NaN   5   0   2584  40.40%   \n",
       "4    State Farm Insurance ...  12/1/1996   1   58 NaN  14   0   3511  25.60%   \n",
       "\n",
       "  X31 X32  \n",
       "0  42   f  \n",
       "1   7   f  \n",
       "2  17   f  \n",
       "3  31   f  \n",
       "4  40   f  \n",
       "\n",
       "[5 rows x 32 columns]"
      ]
     },
     "execution_count": 485,
     "metadata": {},
     "output_type": "execute_result"
    }
   ],
   "source": [
    "cmpltdf.head()"
   ]
  },
  {
   "cell_type": "markdown",
   "metadata": {},
   "source": [
    "we can see the dimensions of our data below, we have 400000 rows and 32 columns"
   ]
  },
  {
   "cell_type": "code",
   "execution_count": 486,
   "metadata": {
    "collapsed": false
   },
   "outputs": [
    {
     "data": {
      "text/plain": [
       "(400000, 32)"
      ]
     },
     "execution_count": 486,
     "metadata": {},
     "output_type": "execute_result"
    }
   ],
   "source": [
    "cmpltdf.shape\n"
   ]
  },
  {
   "cell_type": "markdown",
   "metadata": {},
   "source": [
    "Let us see how many columns have missing values"
   ]
  },
  {
   "cell_type": "code",
   "execution_count": 487,
   "metadata": {
    "collapsed": false
   },
   "outputs": [
    {
     "data": {
      "text/plain": [
       "X1      61010\n",
       "X2          1\n",
       "X3          1\n",
       "X4          1\n",
       "X5          1\n",
       "X6          1\n",
       "X7          1\n",
       "X8      61270\n",
       "X9      61270\n",
       "X10     23982\n",
       "X11         1\n",
       "X12     61361\n",
       "X13     61028\n",
       "X14         1\n",
       "X15         1\n",
       "X16    276439\n",
       "X17         1\n",
       "X18        18\n",
       "X19         1\n",
       "X20         1\n",
       "X21         1\n",
       "X22         1\n",
       "X23         1\n",
       "X24         1\n",
       "X25    218802\n",
       "X26    348845\n",
       "X27         1\n",
       "X28         1\n",
       "X29         1\n",
       "X30       267\n",
       "X31         1\n",
       "X32         1\n",
       "dtype: int64"
      ]
     },
     "execution_count": 487,
     "metadata": {},
     "output_type": "execute_result"
    }
   ],
   "source": [
    "cmpltdf.isnull().sum()"
   ]
  },
  {
   "cell_type": "markdown",
   "metadata": {},
   "source": [
    "# DATA CLEANING"
   ]
  },
  {
   "cell_type": "markdown",
   "metadata": {},
   "source": [
    "There are a lot of missing values in each column, cleaning the columns before imputing missing values. We can see right away that columns X16, X25 and X26 have more than 50% of missing \n",
    "data we can remove those columns right away, but we will keep them for now and see if we can fill those missing values logically using the \n",
    "remaining data, if we cannot we will remove them later on."
   ]
  },
  {
   "cell_type": "code",
   "execution_count": 488,
   "metadata": {
    "collapsed": false
   },
   "outputs": [
    {
     "data": {
      "text/html": [
       "<div>\n",
       "<table border=\"1\" class=\"dataframe\">\n",
       "  <thead>\n",
       "    <tr style=\"text-align: right;\">\n",
       "      <th></th>\n",
       "      <th>X1</th>\n",
       "      <th>X2</th>\n",
       "      <th>X3</th>\n",
       "      <th>X4</th>\n",
       "      <th>X5</th>\n",
       "      <th>X6</th>\n",
       "      <th>X7</th>\n",
       "      <th>X8</th>\n",
       "      <th>X9</th>\n",
       "      <th>X10</th>\n",
       "      <th>...</th>\n",
       "      <th>X23</th>\n",
       "      <th>X24</th>\n",
       "      <th>X25</th>\n",
       "      <th>X26</th>\n",
       "      <th>X27</th>\n",
       "      <th>X28</th>\n",
       "      <th>X29</th>\n",
       "      <th>X30</th>\n",
       "      <th>X31</th>\n",
       "      <th>X32</th>\n",
       "    </tr>\n",
       "  </thead>\n",
       "  <tbody>\n",
       "    <tr>\n",
       "      <th>0</th>\n",
       "      <td>11.89</td>\n",
       "      <td>54734</td>\n",
       "      <td>80364</td>\n",
       "      <td>25000</td>\n",
       "      <td>25000</td>\n",
       "      <td>19080</td>\n",
       "      <td>36</td>\n",
       "      <td>B</td>\n",
       "      <td>B4</td>\n",
       "      <td>NaN</td>\n",
       "      <td>...</td>\n",
       "      <td>1994-02-01</td>\n",
       "      <td>0</td>\n",
       "      <td>NaN</td>\n",
       "      <td>NaN</td>\n",
       "      <td>10</td>\n",
       "      <td>0</td>\n",
       "      <td>28854</td>\n",
       "      <td>52.10</td>\n",
       "      <td>42</td>\n",
       "      <td>f</td>\n",
       "    </tr>\n",
       "    <tr>\n",
       "      <th>1</th>\n",
       "      <td>10.71</td>\n",
       "      <td>55742</td>\n",
       "      <td>114426</td>\n",
       "      <td>7000</td>\n",
       "      <td>7000</td>\n",
       "      <td>673</td>\n",
       "      <td>36</td>\n",
       "      <td>B</td>\n",
       "      <td>B5</td>\n",
       "      <td>CNN</td>\n",
       "      <td>...</td>\n",
       "      <td>2000-10-01</td>\n",
       "      <td>0</td>\n",
       "      <td>NaN</td>\n",
       "      <td>NaN</td>\n",
       "      <td>7</td>\n",
       "      <td>0</td>\n",
       "      <td>33623</td>\n",
       "      <td>76.70</td>\n",
       "      <td>7</td>\n",
       "      <td>f</td>\n",
       "    </tr>\n",
       "    <tr>\n",
       "      <th>2</th>\n",
       "      <td>16.99</td>\n",
       "      <td>57167</td>\n",
       "      <td>137225</td>\n",
       "      <td>25000</td>\n",
       "      <td>25000</td>\n",
       "      <td>24725</td>\n",
       "      <td>36</td>\n",
       "      <td>D</td>\n",
       "      <td>D3</td>\n",
       "      <td>Web Programmer</td>\n",
       "      <td>...</td>\n",
       "      <td>2000-06-01</td>\n",
       "      <td>0</td>\n",
       "      <td>41</td>\n",
       "      <td>NaN</td>\n",
       "      <td>10</td>\n",
       "      <td>0</td>\n",
       "      <td>19878</td>\n",
       "      <td>66.30</td>\n",
       "      <td>17</td>\n",
       "      <td>f</td>\n",
       "    </tr>\n",
       "    <tr>\n",
       "      <th>3</th>\n",
       "      <td>13.11</td>\n",
       "      <td>57245</td>\n",
       "      <td>138150</td>\n",
       "      <td>1200</td>\n",
       "      <td>1200</td>\n",
       "      <td>1200</td>\n",
       "      <td>36</td>\n",
       "      <td>C</td>\n",
       "      <td>C2</td>\n",
       "      <td>city of beaumont texas</td>\n",
       "      <td>...</td>\n",
       "      <td>1985-01-01</td>\n",
       "      <td>0</td>\n",
       "      <td>64</td>\n",
       "      <td>NaN</td>\n",
       "      <td>5</td>\n",
       "      <td>0</td>\n",
       "      <td>2584</td>\n",
       "      <td>40.40</td>\n",
       "      <td>31</td>\n",
       "      <td>f</td>\n",
       "    </tr>\n",
       "    <tr>\n",
       "      <th>4</th>\n",
       "      <td>13.57</td>\n",
       "      <td>57416</td>\n",
       "      <td>139635</td>\n",
       "      <td>10800</td>\n",
       "      <td>10800</td>\n",
       "      <td>10692</td>\n",
       "      <td>36</td>\n",
       "      <td>C</td>\n",
       "      <td>C3</td>\n",
       "      <td>State Farm Insurance</td>\n",
       "      <td>...</td>\n",
       "      <td>1996-12-01</td>\n",
       "      <td>1</td>\n",
       "      <td>58</td>\n",
       "      <td>NaN</td>\n",
       "      <td>14</td>\n",
       "      <td>0</td>\n",
       "      <td>3511</td>\n",
       "      <td>25.60</td>\n",
       "      <td>40</td>\n",
       "      <td>f</td>\n",
       "    </tr>\n",
       "  </tbody>\n",
       "</table>\n",
       "<p>5 rows × 32 columns</p>\n",
       "</div>"
      ],
      "text/plain": [
       "      X1     X2      X3      X4      X5      X6    X7 X8  X9  \\\n",
       "0  11.89  54734   80364  25000   25000   19080    36   B  B4   \n",
       "1  10.71  55742  114426   7000    7000     673    36   B  B5   \n",
       "2  16.99  57167  137225  25000   25000   24725    36   D  D3   \n",
       "3  13.11  57245  138150   1200    1200    1200    36   C  C2   \n",
       "4  13.57  57416  139635  10800   10800   10692    36   C  C3   \n",
       "\n",
       "                      X10 ...        X23 X24  X25 X26 X27 X28    X29    X30  \\\n",
       "0                     NaN ... 1994-02-01   0  NaN NaN  10   0  28854  52.10   \n",
       "1                     CNN ... 2000-10-01   0  NaN NaN   7   0  33623  76.70   \n",
       "2          Web Programmer ... 2000-06-01   0   41 NaN  10   0  19878  66.30   \n",
       "3  city of beaumont texas ... 1985-01-01   0   64 NaN   5   0   2584  40.40   \n",
       "4    State Farm Insurance ... 1996-12-01   1   58 NaN  14   0   3511  25.60   \n",
       "\n",
       "  X31 X32  \n",
       "0  42   f  \n",
       "1   7   f  \n",
       "2  17   f  \n",
       "3  31   f  \n",
       "4  40   f  \n",
       "\n",
       "[5 rows x 32 columns]"
      ]
     },
     "execution_count": 488,
     "metadata": {},
     "output_type": "execute_result"
    }
   ],
   "source": [
    "#cleaning data.\n",
    "cmpltdf.dtypes\n",
    "cmpltdf.X1=cmpltdf.X1.str.strip('%')\n",
    "cmpltdf[['X4','X5','X6']]=cmpltdf[['X4','X5','X6']].apply(lambda x:x.str.strip('$').\n",
    "                                                          replace(',','',regex=True))\n",
    "cmpltdf.X7=cmpltdf.X7.str.rstrip('months')\n",
    "#assigning <1 as 0.5 and 10+ years as 10,converting n/a to 0 for column X11\n",
    "cmpltdf.X11=cmpltdf.X11.str.rstrip('+ years').replace('< 1','0.5',regex=True)\n",
    "cmpltdf.X11=cmpltdf.X11.str.replace('n/','0')\n",
    "cmpltdf.X14=cmpltdf.X14.str.rstrip('- income source')\n",
    "#converting the date column into datetime.\n",
    "cmpltdf.X15=pd.to_datetime(cmpltdf.X15,format='%m/%d/%Y')\n",
    "cmpltdf['X23']=pd.to_datetime(cmpltdf.X23,format='%m/%d/%Y')\n",
    "cmpltdf.X30=cmpltdf.X30.str.strip('%')\n",
    "cmpltdf.head()"
   ]
  },
  {
   "cell_type": "markdown",
   "metadata": {},
   "source": [
    "converting the dtypes of each column appropriately."
   ]
  },
  {
   "cell_type": "code",
   "execution_count": 489,
   "metadata": {
    "collapsed": false
   },
   "outputs": [
    {
     "data": {
      "text/plain": [
       "X1             object\n",
       "X2            float64\n",
       "X3            float64\n",
       "X4             object\n",
       "X5             object\n",
       "X6             object\n",
       "X7             object\n",
       "X8             object\n",
       "X9             object\n",
       "X10            object\n",
       "X11            object\n",
       "X12            object\n",
       "X13           float64\n",
       "X14            object\n",
       "X15    datetime64[ns]\n",
       "X16            object\n",
       "X17            object\n",
       "X18            object\n",
       "X19            object\n",
       "X20            object\n",
       "X21           float64\n",
       "X22           float64\n",
       "X23    datetime64[ns]\n",
       "X24           float64\n",
       "X25           float64\n",
       "X26           float64\n",
       "X27           float64\n",
       "X28           float64\n",
       "X29           float64\n",
       "X30            object\n",
       "X31           float64\n",
       "X32            object\n",
       "dtype: object"
      ]
     },
     "execution_count": 489,
     "metadata": {},
     "output_type": "execute_result"
    }
   ],
   "source": [
    "cmpltdf.dtypes"
   ]
  },
  {
   "cell_type": "code",
   "execution_count": 393,
   "metadata": {
    "collapsed": false
   },
   "outputs": [
    {
     "data": {
      "text/plain": [
       "X1            float64\n",
       "X2            float64\n",
       "X3            float64\n",
       "X4            float64\n",
       "X5            float64\n",
       "X6            float64\n",
       "X7           category\n",
       "X8           category\n",
       "X9           category\n",
       "X10            object\n",
       "X11          category\n",
       "X12          category\n",
       "X13           float64\n",
       "X14          category\n",
       "X15    datetime64[ns]\n",
       "X16            object\n",
       "X17          category\n",
       "X18            object\n",
       "X19            object\n",
       "X20          category\n",
       "X21           float64\n",
       "X22           float64\n",
       "X23    datetime64[ns]\n",
       "X24           float64\n",
       "X25           float64\n",
       "X26           float64\n",
       "X27           float64\n",
       "X28           float64\n",
       "X29           float64\n",
       "X30           float64\n",
       "X31           float64\n",
       "X32          category\n",
       "dtype: object"
      ]
     },
     "execution_count": 393,
     "metadata": {},
     "output_type": "execute_result"
    }
   ],
   "source": [
    "#typecasting int numeric.\n",
    "cmpltdf[['X1', 'X4','X5','X6','X13','X21','X22','X24','X25','X26','X27',\n",
    "         'X28','X29','X30','X31']]=cmpltdf[['X1', 'X4','X5','X6','X13',\n",
    "                                            'X21','X22','X24','X25','X26','X27','X28','X29','X30','X31']].apply(lambda x:pd.to_numeric(x))\n",
    "\n",
    "cmpltdf[['X7','X8','X9','X11','X12','X14','X17','X20','X32']]=cmpltdf[[\n",
    "        'X7','X8','X9','X11','X12','X14','X17','X20','X32']].apply(lambda x:x.astype('category'))\n",
    "\n",
    "cmpltdf.dtypes\n"
   ]
  },
  {
   "cell_type": "markdown",
   "metadata": {},
   "source": [
    "We can safely remove the columns X16 and X18 from our analysis as these columns contain text data in the form of comments entered by \n",
    "the borrowers, we will keep the X17 column i.e. the loan category as it is not random text even though it is entered by borrower.\n",
    "Similarly we will drop column X10 even though it look like an important column there are a lot of levels to it which cannot be categorized.\n"
   ]
  },
  {
   "cell_type": "code",
   "execution_count": 394,
   "metadata": {
    "collapsed": false
   },
   "outputs": [],
   "source": [
    "cmpltdf.drop(['X16','X18','X10'],inplace = True,axis=1)"
   ]
  },
  {
   "cell_type": "markdown",
   "metadata": {},
   "source": [
    "# EXPLORATORY DATA ANALYSIS & VISULIZATION:\n"
   ]
  },
  {
   "cell_type": "code",
   "execution_count": 395,
   "metadata": {
    "collapsed": false
   },
   "outputs": [
    {
     "data": {
      "text/plain": [
       "count    338990.000000\n",
       "mean         13.946271\n",
       "std           4.377951\n",
       "min           5.420000\n",
       "25%          10.990000\n",
       "50%          13.680000\n",
       "75%          16.780000\n",
       "max          26.060000\n",
       "Name: X1, dtype: float64"
      ]
     },
     "execution_count": 395,
     "metadata": {},
     "output_type": "execute_result"
    },
    {
     "data": {
      "image/png": "[encoded data removed]",
      "text/plain": [
       "<matplotlib.figure.Figure at 0x11159cac8>"
      ]
     },
     "metadata": {},
     "output_type": "display_data"
    }
   ],
   "source": [
    "\n",
    "cmpltdf.X1.hist()\n",
    "cmpltdf.X1.describe()\n",
    "#sns.boxplot(cmpltdf.X1)\n",
    "#cmpltdf.loc[(cmpltdf.X1>24),['X1','X22','X4', 'X30','X29','X31']]\n",
    "#cmpltdf.loc[(cmpltdf.X1>24),['X1','X16','X17', 'X18','X29','X31']]\n",
    "#cmpltdf.X17.value_counts()"
   ]
  },
  {
   "cell_type": "markdown",
   "metadata": {},
   "source": [
    "First exploring the target variable, the target variable seems normally distributed. Next let us visualize the variable X8 which is \n",
    "a categorical variable and also let us see the impact it has on our target variable X1. violin plot is a good way to assess the effect of \n",
    "a categorical variable on other variable, the below violin plots show that the mean of the target variable is highly impacted by the grouping \n",
    "of levels in the target variables. The long tails in the violin plots hints outliers."
   ]
  },
  {
   "cell_type": "code",
   "execution_count": 396,
   "metadata": {
    "collapsed": false
   },
   "outputs": [
    {
     "data": {
      "text/plain": [
       "<matplotlib.axes._subplots.AxesSubplot at 0xe6296c50>"
      ]
     },
     "execution_count": 396,
     "metadata": {},
     "output_type": "execute_result"
    },
    {
     "data": {
      "image/png": "[encoded data removed]",
      "text/plain": [
       "<matplotlib.figure.Figure at 0x1118944e0>"
      ]
     },
     "metadata": {},
     "output_type": "display_data"
    }
   ],
   "source": [
    "#sns.countplot(x=cmpltdf.X8, palette='Blues_d')\n",
    "sns.violinplot(x=\"X8\", y=\"X1\", data=cmpltdf)"
   ]
  },
  {
   "cell_type": "markdown",
   "metadata": {},
   "source": [
    "Now that we know that the categorical variable X8 is going to be important in our analysis let us visualize the variable X9 which is\n",
    "Similar to the variable X8 provides granular level details then X8. Let us plot a facet grid plot to see the influence of variable X9 on the target variable at a much granular level.\n"
   ]
  },
  {
   "cell_type": "code",
   "execution_count": 397,
   "metadata": {
    "collapsed": false
   },
   "outputs": [
    {
     "data": {
      "text/plain": [
       "<seaborn.axisgrid.FacetGrid at 0x70126f28>"
      ]
     },
     "execution_count": 397,
     "metadata": {},
     "output_type": "execute_result"
    },
    {
     "data": {
      "image/png": "[encoded data removed]",
      "text/plain": [
       "<matplotlib.figure.Figure at 0x1194d0fd0>"
      ]
     },
     "metadata": {},
     "output_type": "display_data"
    }
   ],
   "source": [
    "#Facet grid Plot\n",
    "#g = sns.factorplot(x=\"X8\", y=\"X1\", hue=\"X9\" ,data=cmpltdf, kind=\"violin\",size=20.5)\n",
    "\n",
    "df = cmpltdf.assign(X9=cmpltdf.X9.astype(object)).sort(\"X9\")\n",
    "grid=sns.FacetGrid(df,col='X8', col_wrap=4,size=4)\n",
    "grid.map(sns.boxplot,'X9','X1')"
   ]
  },
  {
   "cell_type": "markdown",
   "metadata": {},
   "source": [
    "The variable X9 is a potential data leak as it explains almost all the variance in the target variable, this leak can be exploited \n",
    "to impute the missing values in the columns X1 and X9. The missing values in X1 can be imputed by the grouped means of X1 by X9 and similarly\n",
    "missing values in X1 can be imputed by grouping on X9. The code for imputing missing values in both the columns is below.."
   ]
  },
  {
   "cell_type": "code",
   "execution_count": 398,
   "metadata": {
    "collapsed": false
   },
   "outputs": [
    {
     "data": {
      "text/plain": [
       "X9\n",
       "A1     6.002905\n",
       "A2     6.566850\n",
       "A3     7.450486\n",
       "A4     7.828795\n",
       "A5     8.703269\n",
       "B1     9.730468\n",
       "B2    10.772742\n",
       "B3    11.699056\n",
       "B4    12.472588\n",
       "B5    13.069878\n",
       "C1    13.677812\n",
       "C2    14.280730\n",
       "C3    14.837854\n",
       "C4    15.412472\n",
       "C5    16.042135\n",
       "D1    16.695921\n",
       "D2    17.297698\n",
       "D3    17.835426\n",
       "D4    18.403431\n",
       "D5    19.073152\n",
       "E1    19.560820\n",
       "E2    20.220477\n",
       "E3    20.821978\n",
       "E4    21.494988\n",
       "E5    22.138226\n",
       "F1    22.919932\n",
       "F2    23.353235\n",
       "F3    23.919594\n",
       "F4    24.221877\n",
       "F5    24.515928\n",
       "G1    24.950680\n",
       "G2    25.080610\n",
       "G3    25.335682\n",
       "G4    25.209003\n",
       "G5    25.433292\n",
       "Name: X1, dtype: float64"
      ]
     },
     "execution_count": 398,
     "metadata": {},
     "output_type": "execute_result"
    }
   ],
   "source": [
    "#mean values after imputaion\n",
    "cmpltdf['X9'] = cmpltdf.groupby(['X1'])['X9'].transform(lambda x: x.fillna(method='ffill'))\n",
    "cmpltdf['X1'].groupby(cmpltdf.X9).mean()"
   ]
  },
  {
   "cell_type": "markdown",
   "metadata": {
    "collapsed": false
   },
   "source": [
    "The Means did not change after imputation implies imputation was succesful."
   ]
  },
  {
   "cell_type": "markdown",
   "metadata": {
    "collapsed": false
   },
   "source": [
    "similarly we will fill the missing values in X1 with the grouping of column X9."
   ]
  },
  {
   "cell_type": "code",
   "execution_count": 399,
   "metadata": {
    "collapsed": false
   },
   "outputs": [
    {
     "data": {
      "text/plain": [
       "9404"
      ]
     },
     "execution_count": 399,
     "metadata": {},
     "output_type": "execute_result"
    },
    {
     "data": {
      "image/png": "[encoded data removed]",
      "text/plain": [
       "<matplotlib.figure.Figure at 0x11918ec50>"
      ]
     },
     "metadata": {},
     "output_type": "display_data"
    }
   ],
   "source": [
    "cmpltdf.X1=cmpltdf.groupby(['X9'])['X1'].transform(lambda x: x.fillna(method='ffill'))\n",
    "cmpltdf.X1.hist()\n",
    "cmpltdf.X1.isnull().sum()"
   ]
  },
  {
   "cell_type": "code",
   "execution_count": 400,
   "metadata": {
    "collapsed": false
   },
   "outputs": [],
   "source": [
    "#cmpltdf.isnull().sum()"
   ]
  },
  {
   "cell_type": "markdown",
   "metadata": {
    "collapsed": false
   },
   "source": [
    "The histogram above is same as the histogram before filling the missing values, this implies that missing values imputation was succesfull\n"
   ]
  },
  {
   "cell_type": "markdown",
   "metadata": {},
   "source": [
    "We can safely drop the column X8 as we have a much more granular column in X9 which can be used."
   ]
  },
  {
   "cell_type": "code",
   "execution_count": 401,
   "metadata": {
    "collapsed": false
   },
   "outputs": [],
   "source": [
    "cmpltdf.drop(['X8'],inplace = True,axis=1)"
   ]
  },
  {
   "cell_type": "markdown",
   "metadata": {},
   "source": [
    "the column X12 has the most missing values. The missing values can be\n",
    "imputed by mode but there can be a more logical way to impute it, let us consider the effect of variable X17 on X12 with a simple groupby\n",
    "command, and we can see that there is influence of variable X17 on X12, let us anyway do a chi squared test to confirm that."
   ]
  },
  {
   "cell_type": "code",
   "execution_count": 402,
   "metadata": {
    "collapsed": false
   },
   "outputs": [
    {
     "name": "stdout",
     "output_type": "stream",
     "text": [
      "0.0\n"
     ]
    }
   ],
   "source": [
    "from scipy.stats import chi2_contingency\n",
    "chirslts=chi2_contingency(pd.crosstab(cmpltdf.X12,cmpltdf.X17))\n",
    "print float(chirslts[1])"
   ]
  },
  {
   "cell_type": "markdown",
   "metadata": {},
   "source": [
    "The p-value of Chi Square test evaluates our hypothesis that the variable X17 has influence on X12 so we can now impute the missing values\n",
    "in X12 with the means of X12 grouped by X17."
   ]
  },
  {
   "cell_type": "code",
   "execution_count": 403,
   "metadata": {
    "collapsed": false
   },
   "outputs": [
    {
     "data": {
      "text/plain": [
       "1"
      ]
     },
     "execution_count": 403,
     "metadata": {},
     "output_type": "execute_result"
    }
   ],
   "source": [
    "cmpltdf.X12=cmpltdf.groupby(['X17'])['X12'].transform(lambda x: x.fillna(method='ffill'))\n",
    "cmpltdf.X12.isnull().sum()"
   ]
  },
  {
   "cell_type": "markdown",
   "metadata": {},
   "source": [
    "Now let us fill the missing values in the column X13, the distribution looks skewed so it is better if we inpute the values with \n",
    "median of the column."
   ]
  },
  {
   "cell_type": "code",
   "execution_count": 404,
   "metadata": {
    "collapsed": false
   },
   "outputs": [
    {
     "data": {
      "text/plain": [
       "count     338972.000000\n",
       "mean       73160.149695\n",
       "std        55867.696483\n",
       "min         3000.000000\n",
       "25%        45000.000000\n",
       "50%        63000.000000\n",
       "75%        88200.000000\n",
       "max      7500000.000000\n",
       "Name: X13, dtype: float64"
      ]
     },
     "execution_count": 404,
     "metadata": {},
     "output_type": "execute_result"
    }
   ],
   "source": [
    "#cmpltdf.isnull().sum()\n",
    "#len(cmpltdf.X13.value_counts())\n",
    "#cmpltdf.X13.hist().set(xlim=(0, max(cmpltdf.X13)))\n",
    "cmpltdf.X13.describe()"
   ]
  },
  {
   "cell_type": "code",
   "execution_count": 405,
   "metadata": {
    "collapsed": false
   },
   "outputs": [],
   "source": [
    "cmpltdf.X13=cmpltdf.X13.fillna(cmpltdf.X13.median())\n",
    "#cmpltdf.isnull().sum()"
   ]
  },
  {
   "cell_type": "markdown",
   "metadata": {},
   "source": [
    "Now let us look into the colum X30 which has only 200 missing vlaues, these missing values can be filled with the mean of the column\n"
   ]
  },
  {
   "cell_type": "code",
   "execution_count": 406,
   "metadata": {
    "collapsed": false
   },
   "outputs": [
    {
     "data": {
      "text/plain": [
       "count    399733.000000\n",
       "mean         56.279059\n",
       "std          23.734198\n",
       "min           0.000000\n",
       "25%          39.500000\n",
       "50%          57.800000\n",
       "75%          74.900000\n",
       "max         892.300000\n",
       "Name: X30, dtype: float64"
      ]
     },
     "execution_count": 406,
     "metadata": {},
     "output_type": "execute_result"
    }
   ],
   "source": [
    "cmpltdf.X30.describe()"
   ]
  },
  {
   "cell_type": "code",
   "execution_count": 407,
   "metadata": {
    "collapsed": true
   },
   "outputs": [],
   "source": [
    "cmpltdf.X30=cmpltdf.X30.fillna(cmpltdf.X30.mean())"
   ]
  },
  {
   "cell_type": "markdown",
   "metadata": {},
   "source": [
    "Dropping X25,X26 as more than half data is missing values"
   ]
  },
  {
   "cell_type": "code",
   "execution_count": 408,
   "metadata": {
    "collapsed": false
   },
   "outputs": [],
   "source": [
    "cmpltdf.drop(['X25','X26'], inplace =True , axis=1)"
   ]
  },
  {
   "cell_type": "code",
   "execution_count": 409,
   "metadata": {
    "collapsed": false
   },
   "outputs": [],
   "source": [
    "#moving into a newdf\n",
    "clndf=cmpltdf.copy()\n"
   ]
  },
  {
   "cell_type": "markdown",
   "metadata": {},
   "source": [
    "now that we are done with cleaning the data and imputing missing values we can now go ahead and remove the remaining missing values as there are no logical ways to impute the remaining missing values."
   ]
  },
  {
   "cell_type": "code",
   "execution_count": 410,
   "metadata": {
    "collapsed": false
   },
   "outputs": [],
   "source": [
    "clndf.dropna(inplace=True)\n"
   ]
  },
  {
   "cell_type": "code",
   "execution_count": 411,
   "metadata": {
    "collapsed": false
   },
   "outputs": [],
   "source": [
    "#dropping X2 abd X3 as they are just ID's\n",
    "clndf.drop(['X2','X3'], inplace =True , axis=1)"
   ]
  },
  {
   "cell_type": "markdown",
   "metadata": {
    "collapsed": false
   },
   "source": [
    "# FEATURE SELECTION:"
   ]
  },
  {
   "cell_type": "markdown",
   "metadata": {
    "collapsed": true
   },
   "source": [
    "Now we will go ahead with selecting important variables for our model."
   ]
  },
  {
   "cell_type": "code",
   "execution_count": 412,
   "metadata": {
    "collapsed": false
   },
   "outputs": [
    {
     "data": {
      "text/plain": [
       "<seaborn.axisgrid.PairGrid at 0x13135ec50>"
      ]
     },
     "execution_count": 412,
     "metadata": {},
     "output_type": "execute_result"
    },
    {
     "data": {
      "image/png": "[encoded data removed]",
      "text/plain": [
       "<matplotlib.figure.Figure at 0x13135e780>"
      ]
     },
     "metadata": {},
     "output_type": "display_data"
    }
   ],
   "source": [
    "sns.pairplot(clndf[['X4','X5','X6']])"
   ]
  },
  {
   "cell_type": "markdown",
   "metadata": {},
   "source": [
    "all the three columns are linearly related with each other and we will not need all three in predicting the target variable as it may lead to multicollinearity issue."
   ]
  },
  {
   "cell_type": "code",
   "execution_count": 413,
   "metadata": {
    "collapsed": false
   },
   "outputs": [],
   "source": [
    "#splitting the date columns \n",
    "clndf.dtypes\n",
    "clndf['X15_yr']=clndf.X15.dt.year\n",
    "clndf['X15_mn']=clndf.X15.dt.month\n",
    "clndf['X23_yr']=clndf.X23.dt.year\n",
    "clndf['X23_mn']=clndf.X23.dt.month\n"
   ]
  },
  {
   "cell_type": "code",
   "execution_count": 432,
   "metadata": {
    "collapsed": false
   },
   "outputs": [],
   "source": [
    "#converting to category.\n",
    "clndf[['X15_yr','X15_mn','X23_yr','X23_mn','X24']]=clndf[[\n",
    "        'X15_yr','X15_mn','X23_yr','X23_mn','X24']].apply(lambda x:x.astype('category'))"
   ]
  },
  {
   "cell_type": "code",
   "execution_count": 415,
   "metadata": {
    "collapsed": false
   },
   "outputs": [
    {
     "data": {
      "text/plain": [
       "Index([u'X1', u'X4', u'X5', u'X6', u'X7', u'X9', u'X11', u'X12', u'X13',\n",
       "       u'X14', u'X17', u'X19', u'X20', u'X21', u'X22', u'X24', u'X27', u'X28',\n",
       "       u'X29', u'X30', u'X31', u'X32', u'X15_yr', u'X15_mn', u'X23_yr',\n",
       "       u'X23_mn'],\n",
       "      dtype='object')"
      ]
     },
     "execution_count": 415,
     "metadata": {},
     "output_type": "execute_result"
    }
   ],
   "source": [
    "#dropig the actual date columns\n",
    "clndf.drop(['X15','X23'], inplace =True , axis=1)\n",
    "clndf.columns"
   ]
  },
  {
   "cell_type": "markdown",
   "metadata": {},
   "source": [
    "As the problem is prediction of continuous values it can be helpful for the further analysis to know which variables co-relate with the target variable and also amongst themselves. The correlations can be determined by plotting a simple heat map of all the continuous variables."
   ]
  },
  {
   "cell_type": "code",
   "execution_count": 416,
   "metadata": {
    "collapsed": false
   },
   "outputs": [
    {
     "data": {
      "text/html": [
       "<div>\n",
       "<table border=\"1\" class=\"dataframe\">\n",
       "  <thead>\n",
       "    <tr style=\"text-align: right;\">\n",
       "      <th></th>\n",
       "      <th>X1</th>\n",
       "      <th>X4</th>\n",
       "      <th>X5</th>\n",
       "      <th>X6</th>\n",
       "      <th>X13</th>\n",
       "      <th>X21</th>\n",
       "      <th>X22</th>\n",
       "      <th>X27</th>\n",
       "      <th>X28</th>\n",
       "      <th>X29</th>\n",
       "      <th>X30</th>\n",
       "      <th>X31</th>\n",
       "    </tr>\n",
       "  </thead>\n",
       "  <tbody>\n",
       "    <tr>\n",
       "      <th>X1</th>\n",
       "      <td>1.000000</td>\n",
       "      <td>0.177179</td>\n",
       "      <td>0.178194</td>\n",
       "      <td>0.180319</td>\n",
       "      <td>-0.030587</td>\n",
       "      <td>0.158253</td>\n",
       "      <td>0.091447</td>\n",
       "      <td>0.019927</td>\n",
       "      <td>0.075079</td>\n",
       "      <td>0.008478</td>\n",
       "      <td>0.343323</td>\n",
       "      <td>-0.028160</td>\n",
       "    </tr>\n",
       "    <tr>\n",
       "      <th>X4</th>\n",
       "      <td>0.177179</td>\n",
       "      <td>1.000000</td>\n",
       "      <td>0.998346</td>\n",
       "      <td>0.994669</td>\n",
       "      <td>0.329389</td>\n",
       "      <td>0.060687</td>\n",
       "      <td>0.008901</td>\n",
       "      <td>0.204311</td>\n",
       "      <td>-0.078600</td>\n",
       "      <td>0.336389</td>\n",
       "      <td>0.117269</td>\n",
       "      <td>0.237330</td>\n",
       "    </tr>\n",
       "    <tr>\n",
       "      <th>X5</th>\n",
       "      <td>0.178194</td>\n",
       "      <td>0.998346</td>\n",
       "      <td>1.000000</td>\n",
       "      <td>0.996645</td>\n",
       "      <td>0.328802</td>\n",
       "      <td>0.062195</td>\n",
       "      <td>0.009507</td>\n",
       "      <td>0.205256</td>\n",
       "      <td>-0.078006</td>\n",
       "      <td>0.335996</td>\n",
       "      <td>0.118605</td>\n",
       "      <td>0.237208</td>\n",
       "    </tr>\n",
       "    <tr>\n",
       "      <th>X6</th>\n",
       "      <td>0.180319</td>\n",
       "      <td>0.994669</td>\n",
       "      <td>0.996645</td>\n",
       "      <td>1.000000</td>\n",
       "      <td>0.327191</td>\n",
       "      <td>0.065827</td>\n",
       "      <td>0.010347</td>\n",
       "      <td>0.206224</td>\n",
       "      <td>-0.076488</td>\n",
       "      <td>0.334533</td>\n",
       "      <td>0.120844</td>\n",
       "      <td>0.237512</td>\n",
       "    </tr>\n",
       "    <tr>\n",
       "      <th>X13</th>\n",
       "      <td>-0.030587</td>\n",
       "      <td>0.329389</td>\n",
       "      <td>0.328802</td>\n",
       "      <td>0.327191</td>\n",
       "      <td>1.000000</td>\n",
       "      <td>-0.167327</td>\n",
       "      <td>0.055727</td>\n",
       "      <td>0.141342</td>\n",
       "      <td>-0.014786</td>\n",
       "      <td>0.300258</td>\n",
       "      <td>0.030842</td>\n",
       "      <td>0.203970</td>\n",
       "    </tr>\n",
       "    <tr>\n",
       "      <th>X21</th>\n",
       "      <td>0.158253</td>\n",
       "      <td>0.060687</td>\n",
       "      <td>0.062195</td>\n",
       "      <td>0.065827</td>\n",
       "      <td>-0.167327</td>\n",
       "      <td>1.000000</td>\n",
       "      <td>-0.002156</td>\n",
       "      <td>0.304267</td>\n",
       "      <td>-0.046337</td>\n",
       "      <td>0.147676</td>\n",
       "      <td>0.206654</td>\n",
       "      <td>0.229384</td>\n",
       "    </tr>\n",
       "    <tr>\n",
       "      <th>X22</th>\n",
       "      <td>0.091447</td>\n",
       "      <td>0.008901</td>\n",
       "      <td>0.009507</td>\n",
       "      <td>0.010347</td>\n",
       "      <td>0.055727</td>\n",
       "      <td>-0.002156</td>\n",
       "      <td>1.000000</td>\n",
       "      <td>0.062031</td>\n",
       "      <td>-0.008924</td>\n",
       "      <td>-0.030223</td>\n",
       "      <td>-0.011470</td>\n",
       "      <td>0.133531</td>\n",
       "    </tr>\n",
       "    <tr>\n",
       "      <th>X27</th>\n",
       "      <td>0.019927</td>\n",
       "      <td>0.204311</td>\n",
       "      <td>0.205256</td>\n",
       "      <td>0.206224</td>\n",
       "      <td>0.141342</td>\n",
       "      <td>0.304267</td>\n",
       "      <td>0.062031</td>\n",
       "      <td>1.000000</td>\n",
       "      <td>-0.030579</td>\n",
       "      <td>0.224003</td>\n",
       "      <td>-0.118882</td>\n",
       "      <td>0.677413</td>\n",
       "    </tr>\n",
       "    <tr>\n",
       "      <th>X28</th>\n",
       "      <td>0.075079</td>\n",
       "      <td>-0.078600</td>\n",
       "      <td>-0.078006</td>\n",
       "      <td>-0.076488</td>\n",
       "      <td>-0.014786</td>\n",
       "      <td>-0.046337</td>\n",
       "      <td>-0.008924</td>\n",
       "      <td>-0.030579</td>\n",
       "      <td>1.000000</td>\n",
       "      <td>-0.098042</td>\n",
       "      <td>-0.056236</td>\n",
       "      <td>0.004279</td>\n",
       "    </tr>\n",
       "    <tr>\n",
       "      <th>X29</th>\n",
       "      <td>0.008478</td>\n",
       "      <td>0.336389</td>\n",
       "      <td>0.335996</td>\n",
       "      <td>0.334533</td>\n",
       "      <td>0.300258</td>\n",
       "      <td>0.147676</td>\n",
       "      <td>-0.030223</td>\n",
       "      <td>0.224003</td>\n",
       "      <td>-0.098042</td>\n",
       "      <td>1.000000</td>\n",
       "      <td>0.212132</td>\n",
       "      <td>0.202556</td>\n",
       "    </tr>\n",
       "    <tr>\n",
       "      <th>X30</th>\n",
       "      <td>0.343323</td>\n",
       "      <td>0.117269</td>\n",
       "      <td>0.118605</td>\n",
       "      <td>0.120844</td>\n",
       "      <td>0.030842</td>\n",
       "      <td>0.206654</td>\n",
       "      <td>-0.011470</td>\n",
       "      <td>-0.118882</td>\n",
       "      <td>-0.056236</td>\n",
       "      <td>0.212132</td>\n",
       "      <td>1.000000</td>\n",
       "      <td>-0.089708</td>\n",
       "    </tr>\n",
       "    <tr>\n",
       "      <th>X31</th>\n",
       "      <td>-0.028160</td>\n",
       "      <td>0.237330</td>\n",
       "      <td>0.237208</td>\n",
       "      <td>0.237512</td>\n",
       "      <td>0.203970</td>\n",
       "      <td>0.229384</td>\n",
       "      <td>0.133531</td>\n",
       "      <td>0.677413</td>\n",
       "      <td>0.004279</td>\n",
       "      <td>0.202556</td>\n",
       "      <td>-0.089708</td>\n",
       "      <td>1.000000</td>\n",
       "    </tr>\n",
       "  </tbody>\n",
       "</table>\n",
       "</div>"
      ],
      "text/plain": [
       "           X1        X4        X5        X6       X13       X21       X22  \\\n",
       "X1   1.000000  0.177179  0.178194  0.180319 -0.030587  0.158253  0.091447   \n",
       "X4   0.177179  1.000000  0.998346  0.994669  0.329389  0.060687  0.008901   \n",
       "X5   0.178194  0.998346  1.000000  0.996645  0.328802  0.062195  0.009507   \n",
       "X6   0.180319  0.994669  0.996645  1.000000  0.327191  0.065827  0.010347   \n",
       "X13 -0.030587  0.329389  0.328802  0.327191  1.000000 -0.167327  0.055727   \n",
       "X21  0.158253  0.060687  0.062195  0.065827 -0.167327  1.000000 -0.002156   \n",
       "X22  0.091447  0.008901  0.009507  0.010347  0.055727 -0.002156  1.000000   \n",
       "X27  0.019927  0.204311  0.205256  0.206224  0.141342  0.304267  0.062031   \n",
       "X28  0.075079 -0.078600 -0.078006 -0.076488 -0.014786 -0.046337 -0.008924   \n",
       "X29  0.008478  0.336389  0.335996  0.334533  0.300258  0.147676 -0.030223   \n",
       "X30  0.343323  0.117269  0.118605  0.120844  0.030842  0.206654 -0.011470   \n",
       "X31 -0.028160  0.237330  0.237208  0.237512  0.203970  0.229384  0.133531   \n",
       "\n",
       "          X27       X28       X29       X30       X31  \n",
       "X1   0.019927  0.075079  0.008478  0.343323 -0.028160  \n",
       "X4   0.204311 -0.078600  0.336389  0.117269  0.237330  \n",
       "X5   0.205256 -0.078006  0.335996  0.118605  0.237208  \n",
       "X6   0.206224 -0.076488  0.334533  0.120844  0.237512  \n",
       "X13  0.141342 -0.014786  0.300258  0.030842  0.203970  \n",
       "X21  0.304267 -0.046337  0.147676  0.206654  0.229384  \n",
       "X22  0.062031 -0.008924 -0.030223 -0.011470  0.133531  \n",
       "X27  1.000000 -0.030579  0.224003 -0.118882  0.677413  \n",
       "X28 -0.030579  1.000000 -0.098042 -0.056236  0.004279  \n",
       "X29  0.224003 -0.098042  1.000000  0.212132  0.202556  \n",
       "X30 -0.118882 -0.056236  0.212132  1.000000 -0.089708  \n",
       "X31  0.677413  0.004279  0.202556 -0.089708  1.000000  "
      ]
     },
     "execution_count": 416,
     "metadata": {},
     "output_type": "execute_result"
    }
   ],
   "source": [
    "corr=clndf.corr()\n",
    "corr"
   ]
  },
  {
   "cell_type": "code",
   "execution_count": 417,
   "metadata": {
    "collapsed": false
   },
   "outputs": [
    {
     "data": {
      "image/png": "[encoded data removed]",
      "text/plain": [
       "<matplotlib.figure.Figure at 0xcda690f0>"
      ]
     },
     "metadata": {},
     "output_type": "display_data"
    }
   ],
   "source": [
    "f, ax = plt.subplots(figsize=(15, 12))\n",
    "sns.heatmap(corr,linewidths=.5, ax=ax);"
   ]
  },
  {
   "cell_type": "markdown",
   "metadata": {},
   "source": [
    "The columns X4, X5, X6 are all positively correlated with each other this implies we cannot use all these three or any two variables together in our models as they can lead to multicollinearity issue which is common in linear models. As we can see there are no variables which are strongly correlated with the target variable except for X30 which is slightly correlated, this gives an indication that the remaining variables can be ignored from our analysis, even though they seem not significant they can be further analyzed before being ignoring completely.\n"
   ]
  },
  {
   "cell_type": "markdown",
   "metadata": {},
   "source": [
    "Extracting important features using multiple regression\n",
    "First let us extract all the columns with dtypes numeric"
   ]
  },
  {
   "cell_type": "code",
   "execution_count": 418,
   "metadata": {
    "collapsed": false
   },
   "outputs": [],
   "source": [
    "#We will also remove the column X19 as it is not very usefull for our analysis\n",
    "clndf.drop(['X19'], inplace =True , axis=1)\n"
   ]
  },
  {
   "cell_type": "code",
   "execution_count": 419,
   "metadata": {
    "collapsed": false
   },
   "outputs": [
    {
     "data": {
      "text/plain": [
       "X1         float64\n",
       "X4         float64\n",
       "X5         float64\n",
       "X6         float64\n",
       "X7        category\n",
       "X9        category\n",
       "X11       category\n",
       "X12       category\n",
       "X13        float64\n",
       "X14       category\n",
       "X17       category\n",
       "X20       category\n",
       "X21        float64\n",
       "X22        float64\n",
       "X24       category\n",
       "X27        float64\n",
       "X28        float64\n",
       "X29        float64\n",
       "X30        float64\n",
       "X31        float64\n",
       "X32       category\n",
       "X15_yr    category\n",
       "X15_mn    category\n",
       "X23_yr    category\n",
       "X23_mn    category\n",
       "dtype: object"
      ]
     },
     "execution_count": 419,
     "metadata": {},
     "output_type": "execute_result"
    }
   ],
   "source": [
    "clndf.dtypes"
   ]
  },
  {
   "cell_type": "code",
   "execution_count": 420,
   "metadata": {
    "collapsed": false
   },
   "outputs": [],
   "source": [
    "#first let us split our variable into categories and numericals so that we can work on them seperately\n",
    "catgrydf=clndf.loc[:,clndf.dtypes.isin(['category'])]\n",
    "quantdf=clndf.loc[:,clndf.columns-catgrydf.columns]\n",
    "catgrydf['X1']=clndf.X1"
   ]
  },
  {
   "cell_type": "code",
   "execution_count": 421,
   "metadata": {
    "collapsed": false
   },
   "outputs": [
    {
     "name": "stdout",
     "output_type": "stream",
     "text": [
      "X7\n",
      " 36     12.736770\n",
      " 60     17.225859\n",
      "Name: X1, dtype: float64\n",
      "X9\n",
      "A1     6.001833\n",
      "A2     6.564321\n",
      "A3     7.446712\n",
      "A4     7.829278\n",
      "A5     8.703836\n",
      "B1     9.730990\n",
      "B2    10.772892\n",
      "B3    11.698913\n",
      "B4    12.474209\n",
      "B5    13.069579\n",
      "C1    13.680796\n",
      "C2    14.282746\n",
      "C3    14.838568\n",
      "C4    15.415817\n",
      "C5    16.044457\n",
      "D1    16.699531\n",
      "D2    17.295821\n",
      "D3    17.836658\n",
      "D4    18.406521\n",
      "D5    19.072925\n",
      "E1    19.565643\n",
      "E2    20.222383\n",
      "E3    20.814488\n",
      "E4    21.505303\n",
      "E5    22.139226\n",
      "F1    22.921787\n",
      "F2    23.363862\n",
      "F3    23.904966\n",
      "F4    24.233208\n",
      "F5    24.541849\n",
      "G1    24.930456\n",
      "G2    25.094294\n",
      "G3    25.324306\n",
      "G4    25.179469\n",
      "G5    25.466348\n",
      "Name: X1, dtype: float64\n",
      "X11\n",
      "0      14.081536\n",
      "0.5    13.670761\n",
      "1      13.723704\n",
      "10     14.132558\n",
      "2      13.772990\n",
      "3      13.755650\n",
      "4      13.769164\n",
      "5      13.890949\n",
      "6      13.944629\n",
      "7      14.074204\n",
      "8      13.983819\n",
      "9      14.032441\n",
      "Name: X1, dtype: float64\n",
      "X12\n",
      "ANY         11.670000\n",
      "MORTGAGE    13.709522\n",
      "NONE        15.082917\n",
      "OTHER       13.141776\n",
      "OWN         14.048425\n",
      "RENT        14.217484\n",
      "Name: X1, dtype: float64\n",
      "X14\n",
      "VERIFIED        14.606905\n",
      "not verified    12.523709\n",
      "Name: X1, dtype: float64\n",
      "X17\n",
      "car                   12.016677\n",
      "credit_card           12.739597\n",
      "debt_consolidation    14.227855\n",
      "educational           11.671136\n",
      "home_improvement      13.630041\n",
      "house                 15.091978\n",
      "major_purchase        12.803160\n",
      "medical               15.435790\n",
      "moving                16.087623\n",
      "other                 15.876127\n",
      "renewable_energy      14.913902\n",
      "small_business        15.911392\n",
      "vacation              15.298864\n",
      "wedding               14.138723\n",
      "Name: X1, dtype: float64\n",
      "X20\n",
      "AK    14.375575\n",
      "AL    14.353814\n",
      "AR    14.005095\n",
      "AZ    13.839006\n",
      "CA    13.849645\n",
      "CO    13.742966\n",
      "CT    13.848312\n",
      "DC    13.316948\n",
      "DE    14.266523\n",
      "FL    13.940499\n",
      "GA    13.937653\n",
      "HI    14.523547\n",
      "IA    10.870000\n",
      "ID    10.628750\n",
      "IL    13.836900\n",
      "IN    14.363805\n",
      "KS    13.868365\n",
      "KY    14.053676\n",
      "LA    14.017546\n",
      "MA    13.347866\n",
      "MD    14.156197\n",
      "ME    11.692500\n",
      "MI    14.055946\n",
      "MN    13.823864\n",
      "MO    13.809887\n",
      "MS    14.253628\n",
      "MT    13.841804\n",
      "NC    14.144114\n",
      "NE    13.143750\n",
      "NH    13.662535\n",
      "NJ    13.999163\n",
      "NM    13.925065\n",
      "NV    14.136271\n",
      "NY    14.058523\n",
      "OH    14.090126\n",
      "OK    14.001368\n",
      "OR    13.792340\n",
      "PA    13.957552\n",
      "RI    13.816308\n",
      "SC    14.009019\n",
      "SD    13.925685\n",
      "TN    14.455454\n",
      "TX    13.837835\n",
      "UT    13.909636\n",
      "VA    14.010493\n",
      "VT    13.837730\n",
      "WA    14.059042\n",
      "WI    13.713929\n",
      "WV    14.026120\n",
      "WY    13.969917\n",
      "Name: X1, dtype: float64\n",
      "X24\n",
      "0    13.080230\n",
      "1    14.420124\n",
      "2    15.124604\n",
      "3    15.692144\n",
      "4    16.044905\n",
      "5    16.405159\n",
      "6    16.444383\n",
      "7    13.757917\n",
      "8    15.926364\n",
      "Name: X1, dtype: float64\n",
      "X32\n",
      "f    13.973051\n",
      "w    13.881357\n",
      "Name: X1, dtype: float64\n",
      "X15_yr\n",
      "2016    13.944232\n",
      "Name: X1, dtype: float64\n",
      "X15_mn\n",
      "1     13.798392\n",
      "2     13.844214\n",
      "3     13.959542\n",
      "4     14.083833\n",
      "5     14.041162\n",
      "6     14.019219\n",
      "7     13.932439\n",
      "8     13.967855\n",
      "9     13.865751\n",
      "10    13.947488\n",
      "11    13.884190\n",
      "12    13.907164\n",
      "Name: X1, dtype: float64\n",
      "X23_yr\n",
      "1944    19.470000\n",
      "1946    10.590000\n",
      "1948    21.180000\n",
      "1949    12.490000\n",
      "1950    11.940000\n",
      "1951    15.310000\n",
      "1953    12.923333\n",
      "1954    12.210000\n",
      "1955    14.512000\n",
      "1956    14.595000\n",
      "1957    13.986000\n",
      "1958    15.147500\n",
      "1959    13.166000\n",
      "1960    13.249375\n",
      "1961    11.656364\n",
      "1962    12.748000\n",
      "1963    12.831692\n",
      "1964    12.563165\n",
      "1965    12.875217\n",
      "1966    13.489118\n",
      "1967    12.995067\n",
      "1968    13.340657\n",
      "1969    13.053172\n",
      "1970    12.890693\n",
      "1971    12.939671\n",
      "1972    12.728497\n",
      "1973    13.049377\n",
      "1974    12.954640\n",
      "1975    13.146871\n",
      "1976    12.942965\n",
      "1977    13.235994\n",
      "1978    13.194927\n",
      "1979    13.172304\n",
      "1980    12.899892\n",
      "1981    13.219713\n",
      "1982    13.238556\n",
      "1983    13.092695\n",
      "1984    13.527110\n",
      "1985    13.488289\n",
      "1986    13.478481\n",
      "1987    13.465360\n",
      "1988    13.607859\n",
      "1989    13.597544\n",
      "1990    13.536158\n",
      "1991    13.483249\n",
      "1992    13.555105\n",
      "1993    13.786481\n",
      "1994    13.774050\n",
      "1995    13.842914\n",
      "1996    13.845161\n",
      "1997    13.878086\n",
      "1998    13.860455\n",
      "1999    13.947487\n",
      "2000    13.995355\n",
      "2016    14.322496\n",
      "Name: X1, dtype: float64\n",
      "X23_mn\n",
      "1     13.961273\n",
      "2     13.969677\n",
      "3     13.989696\n",
      "4     14.001079\n",
      "5     14.002652\n",
      "6     13.983828\n",
      "7     13.957096\n",
      "8     13.810503\n",
      "9     13.841099\n",
      "10    13.884739\n",
      "11    14.004934\n",
      "12    13.975684\n",
      "Name: X1, dtype: float64\n",
      "X1\n",
      "5.42      5.42\n",
      "5.79      5.79\n",
      "5.99      5.99\n",
      "6.00      6.00\n",
      "6.03      6.03\n",
      "6.17      6.17\n",
      "6.39      6.39\n",
      "6.49      6.49\n",
      "6.54      6.54\n",
      "6.62      6.62\n",
      "6.76      6.76\n",
      "6.91      6.91\n",
      "6.92      6.92\n",
      "6.97      6.97\n",
      "6.99      6.99\n",
      "7.05      7.05\n",
      "7.12      7.12\n",
      "7.14      7.14\n",
      "7.29      7.29\n",
      "7.37      7.37\n",
      "7.40      7.40\n",
      "7.42      7.42\n",
      "7.43      7.43\n",
      "7.49      7.49\n",
      "7.51      7.51\n",
      "7.62      7.62\n",
      "7.66      7.66\n",
      "7.68      7.68\n",
      "7.69      7.69\n",
      "7.74      7.74\n",
      "         ...  \n",
      "23.43    23.43\n",
      "23.50    23.50\n",
      "23.52    23.52\n",
      "23.59    23.59\n",
      "23.63    23.63\n",
      "23.70    23.70\n",
      "23.76    23.76\n",
      "23.83    23.83\n",
      "23.91    23.91\n",
      "23.99    23.99\n",
      "24.08    24.08\n",
      "24.11    24.11\n",
      "24.20    24.20\n",
      "24.33    24.33\n",
      "24.40    24.40\n",
      "24.50    24.50\n",
      "24.52    24.52\n",
      "24.59    24.59\n",
      "24.70    24.70\n",
      "24.76    24.76\n",
      "24.83    24.83\n",
      "24.89    24.89\n",
      "24.99    24.99\n",
      "25.28    25.28\n",
      "25.57    25.57\n",
      "25.80    25.80\n",
      "25.83    25.83\n",
      "25.89    25.89\n",
      "25.99    25.99\n",
      "26.06    26.06\n",
      "Name: X1, dtype: float64\n"
     ]
    }
   ],
   "source": [
    "# we can first do a simple groupby function to find out if the means vary by each group of categorical variable, we know they do \n",
    "#for varible X9.\n",
    "\n",
    "#catgrydf.columns\n",
    "for i in range(len(catgrydf.columns)):\n",
    "    print catgrydf.groupby(catgrydf.columns[i])['X1'].mean()\n",
    "#the group means are changing"
   ]
  },
  {
   "cell_type": "markdown",
   "metadata": {},
   "source": [
    "The group means are changing only for a the categorical columns X9 and X7, for the rest there are closely same. which implies only X7 and X9 are important variables."
   ]
  },
  {
   "cell_type": "markdown",
   "metadata": {
    "collapsed": false
   },
   "source": [
    "Label encoding the variables so that it can be used for further analysis."
   ]
  },
  {
   "cell_type": "code",
   "execution_count": 422,
   "metadata": {
    "collapsed": false
   },
   "outputs": [],
   "source": [
    "#labelEncoding('X17',catgrydf)\n",
    "#catgrydf.loc[['X9','X12','X14','X17','X20','X32']].apply(lambda x:labelEncoding(x,catgrydf))\n",
    "\n",
    "\n",
    "from sklearn import preprocessing\n",
    "le = preprocessing.LabelEncoder()  \n",
    "catgrydf['X9_enc']=pd.Series(le.fit_transform(cmpltdf.X9))\n",
    "catgrydf['X12_enc']=pd.Series(le.fit_transform(cmpltdf.X12))\n",
    "catgrydf['X14_enc']=pd.Series(le.fit_transform(cmpltdf.X14))\n",
    "catgrydf['X17_enc']=pd.Series(le.fit_transform(cmpltdf.X17))\n",
    "catgrydf['X20_enc']=pd.Series(le.fit_transform(cmpltdf.X20))\n",
    "catgrydf['X32_enc']=pd.Series(le.fit_transform(cmpltdf.X32))\n"
   ]
  },
  {
   "cell_type": "code",
   "execution_count": 423,
   "metadata": {
    "collapsed": false
   },
   "outputs": [],
   "source": [
    "#Converting the new types into catagorey\n",
    "catgrydf[['X9_enc','X12_enc','X14_enc','X17_enc','X20_enc','X32_enc']]=catgrydf[[\n",
    "        'X9_enc','X12_enc','X14_enc','X17_enc','X20_enc','X32_enc']].apply(lambda x:x.astype('category'))"
   ]
  },
  {
   "cell_type": "code",
   "execution_count": 424,
   "metadata": {
    "collapsed": false
   },
   "outputs": [],
   "source": [
    "#deleting all the converted variables.\n",
    "catgrydf.drop(['X9','X12','X14','X17','X20','X32'],axis=1,inplace=True)\n",
    "catgrydf.drop(['X1'],axis=1,inplace=True)"
   ]
  },
  {
   "cell_type": "code",
   "execution_count": 425,
   "metadata": {
    "collapsed": false
   },
   "outputs": [
    {
     "data": {
      "text/plain": [
       "(390539, 25)"
      ]
     },
     "execution_count": 425,
     "metadata": {},
     "output_type": "execute_result"
    }
   ],
   "source": [
    "#merging and copying into a new dataframe\n",
    "newdf=pd.concat([catgrydf,quantdf],axis=1)\n",
    "newdf.isnull().sum()\n",
    "newdf.shape"
   ]
  },
  {
   "cell_type": "markdown",
   "metadata": {
    "collapsed": false
   },
   "source": [
    "Splitting the data into dependent and independent variables"
   ]
  },
  {
   "cell_type": "code",
   "execution_count": 426,
   "metadata": {
    "collapsed": false
   },
   "outputs": [
    {
     "data": {
      "text/plain": [
       "Index([u'X7', u'X11', u'X24', u'X15_yr', u'X15_mn', u'X23_yr', u'X23_mn',\n",
       "       u'X9_enc', u'X12_enc', u'X14_enc', u'X17_enc', u'X20_enc', u'X32_enc',\n",
       "       u'X13', u'X21', u'X22', u'X27', u'X28', u'X29', u'X30', u'X31', u'X4',\n",
       "       u'X5', u'X6'],\n",
       "      dtype='object')"
      ]
     },
     "execution_count": 426,
     "metadata": {},
     "output_type": "execute_result"
    }
   ],
   "source": [
    "\n",
    "train=newdf\n",
    "Y_train_data=train.X1\n",
    "X_train_data=train.drop(['X1'],1)\n",
    "X_train_data.columns"
   ]
  },
  {
   "cell_type": "code",
   "execution_count": 427,
   "metadata": {
    "collapsed": false
   },
   "outputs": [],
   "source": [
    "#train test split\n",
    "from sklearn.preprocessing import StandardScaler\n",
    "from sklearn.cross_validation import train_test_split\n",
    "scaler=preprocessing.StandardScaler()\n",
    "X_train, X_test, Y_train, Y_test = train_test_split(X_train_data, Y_train_data, test_size=0.3)\n",
    "#scaler.fit_transform(X_train_data)"
   ]
  },
  {
   "cell_type": "code",
   "execution_count": 428,
   "metadata": {
    "collapsed": false
   },
   "outputs": [
    {
     "data": {
      "text/html": [
       "<div>\n",
       "<table border=\"1\" class=\"dataframe\">\n",
       "  <thead>\n",
       "    <tr style=\"text-align: right;\">\n",
       "      <th></th>\n",
       "      <th>X7</th>\n",
       "      <th>X11</th>\n",
       "      <th>X24</th>\n",
       "      <th>X15_yr</th>\n",
       "      <th>X15_mn</th>\n",
       "      <th>X23_yr</th>\n",
       "      <th>X23_mn</th>\n",
       "      <th>X9_enc</th>\n",
       "      <th>X12_enc</th>\n",
       "      <th>X14_enc</th>\n",
       "      <th>...</th>\n",
       "      <th>X21</th>\n",
       "      <th>X22</th>\n",
       "      <th>X27</th>\n",
       "      <th>X28</th>\n",
       "      <th>X29</th>\n",
       "      <th>X30</th>\n",
       "      <th>X31</th>\n",
       "      <th>X4</th>\n",
       "      <th>X5</th>\n",
       "      <th>X6</th>\n",
       "    </tr>\n",
       "  </thead>\n",
       "  <tbody>\n",
       "    <tr>\n",
       "      <th>0</th>\n",
       "      <td>36</td>\n",
       "      <td>0.5</td>\n",
       "      <td>0</td>\n",
       "      <td>2016</td>\n",
       "      <td>8</td>\n",
       "      <td>1994</td>\n",
       "      <td>2</td>\n",
       "      <td>9</td>\n",
       "      <td>6</td>\n",
       "      <td>1</td>\n",
       "      <td>...</td>\n",
       "      <td>19.48</td>\n",
       "      <td>0</td>\n",
       "      <td>10</td>\n",
       "      <td>0</td>\n",
       "      <td>28854</td>\n",
       "      <td>52.1</td>\n",
       "      <td>42</td>\n",
       "      <td>25000</td>\n",
       "      <td>25000</td>\n",
       "      <td>19080</td>\n",
       "    </tr>\n",
       "    <tr>\n",
       "      <th>1</th>\n",
       "      <td>36</td>\n",
       "      <td>0.5</td>\n",
       "      <td>0</td>\n",
       "      <td>2016</td>\n",
       "      <td>5</td>\n",
       "      <td>2000</td>\n",
       "      <td>10</td>\n",
       "      <td>10</td>\n",
       "      <td>6</td>\n",
       "      <td>2</td>\n",
       "      <td>...</td>\n",
       "      <td>14.29</td>\n",
       "      <td>0</td>\n",
       "      <td>7</td>\n",
       "      <td>0</td>\n",
       "      <td>33623</td>\n",
       "      <td>76.7</td>\n",
       "      <td>7</td>\n",
       "      <td>7000</td>\n",
       "      <td>7000</td>\n",
       "      <td>673</td>\n",
       "    </tr>\n",
       "    <tr>\n",
       "      <th>2</th>\n",
       "      <td>36</td>\n",
       "      <td>1</td>\n",
       "      <td>0</td>\n",
       "      <td>2016</td>\n",
       "      <td>8</td>\n",
       "      <td>2000</td>\n",
       "      <td>6</td>\n",
       "      <td>18</td>\n",
       "      <td>6</td>\n",
       "      <td>1</td>\n",
       "      <td>...</td>\n",
       "      <td>10.50</td>\n",
       "      <td>0</td>\n",
       "      <td>10</td>\n",
       "      <td>0</td>\n",
       "      <td>19878</td>\n",
       "      <td>66.3</td>\n",
       "      <td>17</td>\n",
       "      <td>25000</td>\n",
       "      <td>25000</td>\n",
       "      <td>24725</td>\n",
       "    </tr>\n",
       "    <tr>\n",
       "      <th>3</th>\n",
       "      <td>36</td>\n",
       "      <td>10</td>\n",
       "      <td>0</td>\n",
       "      <td>2016</td>\n",
       "      <td>3</td>\n",
       "      <td>1985</td>\n",
       "      <td>1</td>\n",
       "      <td>12</td>\n",
       "      <td>5</td>\n",
       "      <td>2</td>\n",
       "      <td>...</td>\n",
       "      <td>5.47</td>\n",
       "      <td>0</td>\n",
       "      <td>5</td>\n",
       "      <td>0</td>\n",
       "      <td>2584</td>\n",
       "      <td>40.4</td>\n",
       "      <td>31</td>\n",
       "      <td>1200</td>\n",
       "      <td>1200</td>\n",
       "      <td>1200</td>\n",
       "    </tr>\n",
       "    <tr>\n",
       "      <th>4</th>\n",
       "      <td>36</td>\n",
       "      <td>6</td>\n",
       "      <td>1</td>\n",
       "      <td>2016</td>\n",
       "      <td>11</td>\n",
       "      <td>1996</td>\n",
       "      <td>12</td>\n",
       "      <td>13</td>\n",
       "      <td>6</td>\n",
       "      <td>2</td>\n",
       "      <td>...</td>\n",
       "      <td>11.63</td>\n",
       "      <td>0</td>\n",
       "      <td>14</td>\n",
       "      <td>0</td>\n",
       "      <td>3511</td>\n",
       "      <td>25.6</td>\n",
       "      <td>40</td>\n",
       "      <td>10800</td>\n",
       "      <td>10800</td>\n",
       "      <td>10692</td>\n",
       "    </tr>\n",
       "  </tbody>\n",
       "</table>\n",
       "<p>5 rows × 24 columns</p>\n",
       "</div>"
      ],
      "text/plain": [
       "     X7  X11 X24 X15_yr X15_mn X23_yr X23_mn X9_enc X12_enc X14_enc  ...    \\\n",
       "0   36   0.5   0   2016      8   1994      2      9       6       1  ...     \n",
       "1   36   0.5   0   2016      5   2000     10     10       6       2  ...     \n",
       "2   36     1   0   2016      8   2000      6     18       6       1  ...     \n",
       "3   36    10   0   2016      3   1985      1     12       5       2  ...     \n",
       "4   36     6   1   2016     11   1996     12     13       6       2  ...     \n",
       "\n",
       "     X21 X22 X27  X28    X29   X30  X31     X4     X5     X6  \n",
       "0  19.48   0  10    0  28854  52.1   42  25000  25000  19080  \n",
       "1  14.29   0   7    0  33623  76.7    7   7000   7000    673  \n",
       "2  10.50   0  10    0  19878  66.3   17  25000  25000  24725  \n",
       "3   5.47   0   5    0   2584  40.4   31   1200   1200   1200  \n",
       "4  11.63   0  14    0   3511  25.6   40  10800  10800  10692  \n",
       "\n",
       "[5 rows x 24 columns]"
      ]
     },
     "execution_count": 428,
     "metadata": {},
     "output_type": "execute_result"
    }
   ],
   "source": [
    "#scaler.fit(X_train_data)\n",
    "X_train_data.head()"
   ]
  },
  {
   "cell_type": "markdown",
   "metadata": {},
   "source": [
    "The above inferences made about the important features can be tested with various statistical tests and other methods. First thing that\n",
    "can be done is compute a simple Pearson correlations amongst all the variable and get the most important variables, The f_regression function from\n",
    "the preprocessing package in sklearn can be very efficient in computing the p-values but first we need to get the data ready for analysis."
   ]
  },
  {
   "cell_type": "code",
   "execution_count": 429,
   "metadata": {
    "collapsed": false
   },
   "outputs": [
    {
     "data": {
      "text/plain": [
       "(Index([u'X7', u'X24', u'X9_enc', u'X14_enc', u'X30'], dtype='object'),\n",
       " array([ True, False,  True, False, False, False, False,  True, False,\n",
       "         True, False, False, False, False, False, False, False, False,\n",
       "        False,  True, False, False, False, False], dtype=bool))"
      ]
     },
     "execution_count": 429,
     "metadata": {},
     "output_type": "execute_result"
    }
   ],
   "source": [
    "\n",
    "from sklearn.feature_selection import f_regression\n",
    "from sklearn.feature_selection import SelectKBest\n",
    "from sklearn.preprocessing import StandardScaler\n",
    "scaler=preprocessing.StandardScaler()\n",
    "featureSelector = SelectKBest(score_func=f_regression,k=5)\n",
    "featureSelector.fit(scaler.fit_transform(X_train_data),scaler.fit_transform(Y_train_data))\n",
    "X_train_data.loc[:,featureSelector.get_support()].columns, featureSelector.get_support()"
   ]
  },
  {
   "cell_type": "markdown",
   "metadata": {
    "collapsed": false
   },
   "source": [
    "The results of a simple correlation test has given the five most important variables as specified in the code, \n",
    "of this five using only the two most important variables to build a base model, If using more than two variables multicollinearity issue creeps into the model\n"
   ]
  },
  {
   "cell_type": "markdown",
   "metadata": {},
   "source": [
    "# MODEL BUILDING:"
   ]
  },
  {
   "cell_type": "markdown",
   "metadata": {
    "collapsed": false
   },
   "source": [
    "Using statsmodels package in python to build the base model as it provides various statistics which can be interactive in feature selection."
   ]
  },
  {
   "cell_type": "code",
   "execution_count": 474,
   "metadata": {
    "collapsed": false
   },
   "outputs": [],
   "source": [
    "import statsmodels.formula.api as smf\n",
    "from statsmodels.formula.api import ols\n",
    "all_columns = \"+\".join(X_train[[ 'X7','X9_enc']])\n",
    "my_formula = \"Y_train~\" + all_columns\n",
    "lm=smf.ols(formula=my_formula, data=X_train).fit()\n",
    "#lm = smf.ols(np.array(Y_train_data),np.array())\n"
   ]
  },
  {
   "cell_type": "code",
   "execution_count": 475,
   "metadata": {
    "collapsed": false
   },
   "outputs": [
    {
     "name": "stdout",
     "output_type": "stream",
     "text": [
      "                            OLS Regression Results                            \n",
      "==============================================================================\n",
      "Dep. Variable:                Y_train   R-squared:                       0.965\n",
      "Model:                            OLS   Adj. R-squared:                  0.965\n",
      "Method:                 Least Squares   F-statistic:                 2.141e+05\n",
      "Date:                Tue, 05 Jul 2016   Prob (F-statistic):               0.00\n",
      "Time:                        11:39:04   Log-Likelihood:            -3.3395e+05\n",
      "No. Observations:              273377   AIC:                         6.680e+05\n",
      "Df Residuals:                  273341   BIC:                         6.683e+05\n",
      "Df Model:                          35                                         \n",
      "Covariance Type:            nonrobust                                         \n",
      "================================================================================\n",
      "                   coef    std err          t      P>|t|      [95.0% Conf. Int.]\n",
      "--------------------------------------------------------------------------------\n",
      "Intercept        6.0000      0.010    572.737      0.000         5.979     6.020\n",
      "X7[T. 60 ]      -0.1124      0.004    -27.707      0.000        -0.120    -0.104\n",
      "X9_enc[T.2]      0.5642      0.015     38.175      0.000         0.535     0.593\n",
      "X9_enc[T.3]      1.4469      0.014    101.614      0.000         1.419     1.475\n",
      "X9_enc[T.4]      1.8307      0.013    140.267      0.000         1.805     1.856\n",
      "X9_enc[T.5]      2.7134      0.013    212.094      0.000         2.688     2.738\n",
      "X9_enc[T.6]      3.7352      0.013    295.934      0.000         3.710     3.760\n",
      "X9_enc[T.7]      4.7815      0.012    387.982      0.000         4.757     4.806\n",
      "X9_enc[T.8]      5.7080      0.012    474.561      0.000         5.684     5.732\n",
      "X9_enc[T.9]      6.4897      0.012    535.046      0.000         6.466     6.513\n",
      "X9_enc[T.10]     7.0812      0.012    567.158      0.000         7.057     7.106\n",
      "X9_enc[T.11]     7.7076      0.012    622.264      0.000         7.683     7.732\n",
      "X9_enc[T.12]     8.3176      0.012    669.427      0.000         8.293     8.342\n",
      "X9_enc[T.13]     8.8814      0.013    707.982      0.000         8.857     8.906\n",
      "X9_enc[T.14]     9.4612      0.013    745.664      0.000         9.436     9.486\n",
      "X9_enc[T.15]    10.1027      0.013    788.637      0.000        10.078    10.128\n",
      "X9_enc[T.16]    10.7490      0.013    818.401      0.000        10.723    10.775\n",
      "X9_enc[T.17]    11.3372      0.013    847.890      0.000        11.311    11.363\n",
      "X9_enc[T.18]    11.8786      0.014    863.904      0.000        11.852    11.906\n",
      "X9_enc[T.19]    12.4575      0.014    888.149      0.000        12.430    12.485\n",
      "X9_enc[T.20]    13.1298      0.015    896.023      0.000        13.101    13.159\n",
      "X9_enc[T.21]    13.6340      0.016    866.855      0.000        13.603    13.665\n",
      "X9_enc[T.22]    14.2837      0.016    900.149      0.000        14.253    14.315\n",
      "X9_enc[T.23]    14.8709      0.017    880.495      0.000        14.838    14.904\n",
      "X9_enc[T.24]    15.5989      0.018    885.317      0.000        15.564    15.633\n",
      "X9_enc[T.25]    16.2302      0.019    874.883      0.000        16.194    16.267\n",
      "X9_enc[T.26]    17.0268      0.020    850.956      0.000        16.988    17.066\n",
      "X9_enc[T.27]    17.4839      0.022    779.896      0.000        17.440    17.528\n",
      "X9_enc[T.28]    17.9924      0.023    782.605      0.000        17.947    18.037\n",
      "X9_enc[T.29]    18.2796      0.026    710.419      0.000        18.229    18.330\n",
      "X9_enc[T.30]    18.6392      0.030    629.840      0.000        18.581    18.697\n",
      "X9_enc[T.31]    19.0286      0.034    554.567      0.000        18.961    19.096\n",
      "X9_enc[T.32]    19.1926      0.039    498.133      0.000        19.117    19.268\n",
      "X9_enc[T.33]    19.4044      0.045    435.395      0.000        19.317    19.492\n",
      "X9_enc[T.34]    19.2168      0.054    355.574      0.000        19.111    19.323\n",
      "X9_enc[T.35]    19.5301      0.060    326.407      0.000        19.413    19.647\n",
      "==============================================================================\n",
      "Omnibus:                   124432.943   Durbin-Watson:                   1.995\n",
      "Prob(Omnibus):                  0.000   Jarque-Bera (JB):          1707177.122\n",
      "Skew:                          -1.833   Prob(JB):                         0.00\n",
      "Kurtosis:                      14.680   Cond. No.                         46.7\n",
      "==============================================================================\n",
      "\n",
      "Warnings:\n",
      "[1] Standard Errors assume that the covariance matrix of the errors is correctly specified.\n"
     ]
    }
   ],
   "source": [
    "print lm.summary()"
   ]
  },
  {
   "cell_type": "code",
   "execution_count": 442,
   "metadata": {
    "collapsed": false
   },
   "outputs": [
    {
     "data": {
      "text/plain": [
       "array([  8.7133385 ,   8.7133385 ,  19.63401416, ...,  16.10268529,\n",
       "         9.73513969,  12.37729437])"
      ]
     },
     "execution_count": 442,
     "metadata": {},
     "output_type": "execute_result"
    }
   ],
   "source": [
    "lm.predict(X_test[[ 'X7','X9_enc']])\n"
   ]
  },
  {
   "cell_type": "markdown",
   "metadata": {},
   "source": [
    "The summary shows that the R-squared value and adjusted R-squared values are high suggesting goodness of the fit. Also there is no trace of multicollinearity issue as none of the coefficients are small or negligible and also the summary suggest that all the tests are passed without any warnings. Now assessing the\n",
    "error on the train data.\n"
   ]
  },
  {
   "cell_type": "code",
   "execution_count": 476,
   "metadata": {
    "collapsed": false
   },
   "outputs": [
    {
     "data": {
      "text/plain": [
       "0.82094297938615446"
      ]
     },
     "execution_count": 476,
     "metadata": {},
     "output_type": "execute_result"
    }
   ],
   "source": [
    "#lm.predict(X_train[[u'X7', u'X9_enc', u'X14_enc', u'X24']])\n",
    "np.sqrt(lm.mse_resid)"
   ]
  },
  {
   "cell_type": "markdown",
   "metadata": {},
   "source": [
    "The train error is 0.821 on train data similary error can also be caluculated on the test data. Writing a simple function called \n",
    "metric which will compute the error metric on test"
   ]
  },
  {
   "cell_type": "code",
   "execution_count": 299,
   "metadata": {
    "collapsed": true
   },
   "outputs": [],
   "source": [
    "def metric(dfXtest,dfYtest,clf,standardize=False):\n",
    "    if standardize:\n",
    "        from sklearn.preprocessing import StandardScaler\n",
    "        scaler=preprocessing.StandardScaler()\n",
    "        dfXtest=scaler.fit_transform(dfXtest)\n",
    "    else:\n",
    "        dfXtest\n",
    "    from sklearn.metrics import mean_squared_error\n",
    "    predicted=clf.predict(dfXtest)\n",
    "    return np.sqrt(mean_squared_error(dfYtest,predicted)),predicted,dfYtest"
   ]
  },
  {
   "cell_type": "code",
   "execution_count": 477,
   "metadata": {
    "collapsed": false
   },
   "outputs": [
    {
     "data": {
      "text/plain": [
       "0.82300565247332569"
      ]
     },
     "execution_count": 477,
     "metadata": {},
     "output_type": "execute_result"
    }
   ],
   "source": [
    "testerror,predictedvals,actual=metric(X_test[[ 'X7','X9_enc']],Y_test,lm)\n",
    "testerror"
   ]
  },
  {
   "cell_type": "markdown",
   "metadata": {},
   "source": [
    "The error on the test is 0.815, the basic linear classifier has slightly missed in accuracy but it has done fairly well being the simplest model. A more regularized model might be a good fit because if one notices the magnitude of the coefficients of our simple model they are huge which might be the reason for the error not being accurate and the magnitude of coefficients can be reduced by adding penalty which the regularization models like ridge and lasso can take care of. We shall see if fitting a regularized model can solve the problem of accuracy as well."
   ]
  },
  {
   "cell_type": "markdown",
   "metadata": {
    "collapsed": false
   },
   "source": [
    "In order to implement regularized model scikit learn is more suitable as it allows doing cross validation to find the best parameters\n",
    "the below function CV is a simple implementation of sklearn GridSearchCV module which finds the best parameters after going over each fold.\n"
   ]
  },
  {
   "cell_type": "code",
   "execution_count": 456,
   "metadata": {
    "collapsed": false
   },
   "outputs": [],
   "source": [
    "def cv(clf, parameters, Xdf, ydf,n_folds=5):\n",
    "    from sklearn.grid_search import GridSearchCV\n",
    "    gs = GridSearchCV(clf, param_grid=parameters, cv=n_folds)\n",
    "    gs.fit(X_train, Y_train)\n",
    "    print \"BEST PARAMS ARE\", gs.best_params_\n",
    "    #print \"Best Score\", gs.grid_scores_\n",
    "    best = gs.best_estimator_\n",
    "    #cv_score=gs.grid_scores_\n",
    "    return best\n"
   ]
  },
  {
   "cell_type": "markdown",
   "metadata": {},
   "source": [
    "The below function regression is the main function which uses the earlier described function metric and cv to fit the best parameters\n",
    "found in cv over the whole training data and give the error metric on train."
   ]
  },
  {
   "cell_type": "code",
   "execution_count": 276,
   "metadata": {
    "collapsed": false
   },
   "outputs": [],
   "source": [
    "def regression(clf, parameters, X, Y,n_folds=5,train_size=0.7,features=False,standardize=False,*args):\n",
    "    if features:\n",
    "        subdf=X[args]\n",
    "    else:\n",
    "        subdf=X\n",
    "    if standardize:\n",
    "        from sklearn.preprocessing import StandardScaler\n",
    "        scaler=preprocessing.StandardScaler()\n",
    "        subdfstd=scaler.fit_transform(subdf)\n",
    "    else:\n",
    "        subdfstd=subdf\n",
    "    Xtr=subdfstd\n",
    "    Ytr=Y\n",
    "    X_train, X_test, Y_train, Y_test = train_test_split(Xtr, Ytr, train_size=train_size)\n",
    "    clf = cv(clf, parameters, X_train, Y_train,n_folds=5)\n",
    "    clf=clf.fit(X_train, Y_train)\n",
    "    trainRMSE,xjunk,yjunk = metric(X_train, Y_train,clf,standardize=False)\n",
    "    print \"Rmse on Train: %0.5f\" % (trainRMSE)\n",
    "    return clf, X_train, Y_train, X_test, Y_test,trainRMSE"
   ]
  },
  {
   "cell_type": "markdown",
   "metadata": {
    "collapsed": false
   },
   "source": [
    "The below function dum, creates dummies(one hot encoding) suitable for sklearn implementations"
   ]
  },
  {
   "cell_type": "code",
   "execution_count": 279,
   "metadata": {
    "collapsed": true
   },
   "outputs": [],
   "source": [
    "def dum(df):\n",
    "    dum=pd.get_dummies(df)\n",
    "    return dum.iloc[:,1:]"
   ]
  },
  {
   "cell_type": "code",
   "execution_count": 443,
   "metadata": {
    "collapsed": false
   },
   "outputs": [],
   "source": [
    "\n",
    "#preparing data for regularization \n",
    "X=pd.concat([dum(X_train_data['X7']),dum(X_train_data['X9_enc'])],axis=1)"
   ]
  },
  {
   "cell_type": "markdown",
   "metadata": {},
   "source": [
    "Importing the ridge regression module and tuning parameters using the regression function. The ridge regression applies L1 penalty on the coefficients with large magnitudes. The best parameter of alpha(L1) is 100, \n",
    "on evaluating the error on test data we can see the accuracy has increase when compared to the benchmark model.\n"
   ]
  },
  {
   "cell_type": "code",
   "execution_count": 380,
   "metadata": {
    "collapsed": false
   },
   "outputs": [],
   "source": [
    "from sklearn.linear_model import Ridge\n",
    "clfRIDGE=Ridge()\n",
    "#clfRIDGE.get_params()"
   ]
  },
  {
   "cell_type": "code",
   "execution_count": 478,
   "metadata": {
    "collapsed": false
   },
   "outputs": [
    {
     "name": "stdout",
     "output_type": "stream",
     "text": [
      "BEST PARAMS ARE {'alpha': 100}\n",
      "Rmse on Train: 0.82085\n"
     ]
    }
   ],
   "source": [
    "RDGmdl,xtRdg,ytRdg,xteRdg,yteRdg,trainerrorRdg=regression(clfRIDGE,{'alpha':[0.1,1,10,100,200]},X,Y_train_data,n_folds=5,\n",
    "                                                          train_size=0.7,\n",
    "                             standardize=True)"
   ]
  },
  {
   "cell_type": "code",
   "execution_count": 462,
   "metadata": {
    "collapsed": false
   },
   "outputs": [
    {
     "data": {
      "text/plain": [
       "0.82701673013874522"
      ]
     },
     "execution_count": 462,
     "metadata": {},
     "output_type": "execute_result"
    }
   ],
   "source": [
    "testerrorRdg,predictedvalsRdG,actualRdg=metric(xteRdg,yteRdg,RDGmdl)\n",
    "testerrorRdg"
   ]
  },
  {
   "cell_type": "code",
   "execution_count": 446,
   "metadata": {
    "collapsed": false
   },
   "outputs": [
    {
     "data": {
      "text/plain": [
       "0.96486867514213959"
      ]
     },
     "execution_count": 446,
     "metadata": {},
     "output_type": "execute_result"
    }
   ],
   "source": [
    "RDGmdl.score(xtRdg,ytRdg)"
   ]
  },
  {
   "cell_type": "markdown",
   "metadata": {},
   "source": [
    "The R-squared value of the model is 0.96, so we can conclude that the Ridge model has the same error rate as the linear model. Moving on to tree based models, as tree based models like random forests and XGboosts work well when the dependent variables are categorical."
   ]
  },
  {
   "cell_type": "markdown",
   "metadata": {
    "collapsed": false
   },
   "source": [
    "Building a random forest classifier, even though random forest is based on bagging technique, it is highly recommended to cross validate. Setting up the appropriate parameters and parsing the classifier to the regression function defined above."
   ]
  },
  {
   "cell_type": "code",
   "execution_count": 457,
   "metadata": {
    "collapsed": false
   },
   "outputs": [
    {
     "data": {
      "text/plain": [
       "{'bootstrap': True,\n",
       " 'criterion': 'mse',\n",
       " 'max_depth': None,\n",
       " 'max_features': 'auto',\n",
       " 'max_leaf_nodes': None,\n",
       " 'min_samples_leaf': 1,\n",
       " 'min_samples_split': 2,\n",
       " 'min_weight_fraction_leaf': 0.0,\n",
       " 'n_estimators': 10,\n",
       " 'n_jobs': 1,\n",
       " 'oob_score': False,\n",
       " 'random_state': None,\n",
       " 'verbose': 0,\n",
       " 'warm_start': False}"
      ]
     },
     "execution_count": 457,
     "metadata": {},
     "output_type": "execute_result"
    }
   ],
   "source": [
    "from sklearn.ensemble import RandomForestRegressor\n",
    "clfRF=RandomForestRegressor()\n",
    "clfRF.get_params()"
   ]
  },
  {
   "cell_type": "code",
   "execution_count": 458,
   "metadata": {
    "collapsed": false
   },
   "outputs": [
    {
     "name": "stdout",
     "output_type": "stream",
     "text": [
      "BEST PARAMS ARE {'max_features': 'sqrt', 'n_estimators': 300, 'n_jobs': 3, 'random_state': 10}\n",
      "Rmse on Train: 0.81846\n"
     ]
    }
   ],
   "source": [
    "RFmdl,xtRF,ytRF,xteRF,yteRF,trainerrorRF=regression(clfRF,{'n_estimators':[200,300],'max_features': ['sqrt'],'n_jobs':[3],\n",
    "                                                           'random_state': [10]}\n",
    "                                        ,X,Y_train_data,n_folds=5,train_size=0.7,\n",
    "                                                    standardize=False)"
   ]
  },
  {
   "cell_type": "code",
   "execution_count": 459,
   "metadata": {
    "collapsed": false
   },
   "outputs": [
    {
     "data": {
      "text/plain": [
       "0.81935346148604105"
      ]
     },
     "execution_count": 459,
     "metadata": {},
     "output_type": "execute_result"
    }
   ],
   "source": [
    "testerrorRF,predictedvalsRF,actualRF=metric(xteRF,yteRF,RFmdl)\n",
    "testerrorRF"
   ]
  },
  {
   "cell_type": "code",
   "execution_count": 460,
   "metadata": {
    "collapsed": false
   },
   "outputs": [
    {
     "data": {
      "text/plain": [
       "0.96494142755709289"
      ]
     },
     "execution_count": 460,
     "metadata": {},
     "output_type": "execute_result"
    }
   ],
   "source": [
    "RFmdl.score(xtRF,ytRF)"
   ]
  },
  {
   "cell_type": "markdown",
   "metadata": {},
   "source": [
    "As we can see the error rate has decreased significantly with the forests as expected and also the score suggests the model is a good fit \n",
    "the Random forests worked better than generalization methods because the most important variables are all categories\n"
   ]
  },
  {
   "cell_type": "markdown",
   "metadata": {},
   "source": [
    "Cleaning the test data so that the trained classifiers can be used to predict the values on holdout data."
   ]
  },
  {
   "cell_type": "code",
   "execution_count": 311,
   "metadata": {
    "collapsed": true
   },
   "outputs": [],
   "source": [
    "test=pd.read_csv('C:/Users/Raj/Desktop/sf work assignment.6.8.2016 (1)/Holdout for Testing.csv')"
   ]
  },
  {
   "cell_type": "code",
   "execution_count": 312,
   "metadata": {
    "collapsed": true
   },
   "outputs": [],
   "source": [
    "def test_clean(df):\n",
    "    #df['X1']=df['X1'].str.strip('%')\n",
    "    df[['X4','X5','X6']]=df[['X4','X5','X6']].apply(lambda x:x.str.strip('$').replace(',','',regex=True))\n",
    "    df.X7=df.X7.str.rstrip('months')\n",
    "    #assigning <1 as 0.5 and 10+ years as 10,converting n/a to 0 for column X11\n",
    "    df.X11=df.X11.str.rstrip('+ years').replace('< 1','0.5',regex=True)\n",
    "    df.X11=df.X11.str.replace('n/','0')\n",
    "    df.X14=df.X14.str.rstrip('- income source')\n",
    "    #converting the date column into datetime.\n",
    "    df.X15=pd.to_datetime(df.X15,format='%m/%d/%Y')\n",
    "    df['X23']=pd.to_datetime(df.X23,format='%m/%d/%Y')\n",
    "    df.X30=df.X30.str.strip('%')\n",
    "    df['X15_yr']=df.X15.dt.year\n",
    "    df['X15_mn']=df.X15.dt.month\n",
    "    df['X23_yr']=df.X23.dt.year\n",
    "    df['X23_mn']=df.X23.dt.month\n",
    "    #changing dtypes\n",
    "    df[['X4','X5','X6','X13','X21','X22','X25','X26','X27',\n",
    "         'X28','X29','X30','X31']]=df[['X4','X5','X6','X13',\n",
    "                                            'X21','X22','X25','X26','X27','X28','X29','X30','X31']].apply(lambda x:pd.to_numeric(x))\n",
    "\n",
    "    df[['X7','X8','X9','X11','X12','X14','X17','X20','X32','X15_yr','X15_mn','X23_yr','X23_mn','X24']]=df[[\n",
    "        'X7','X8','X9','X11','X12','X14','X17','X20','X32','X15_yr','X15_mn','X23_yr','X23_mn','X24']].apply(lambda x:x.astype('category'))\n",
    "    return df"
   ]
  },
  {
   "cell_type": "code",
   "execution_count": 313,
   "metadata": {
    "collapsed": true
   },
   "outputs": [],
   "source": [
    "test=test_clean(test)"
   ]
  },
  {
   "cell_type": "code",
   "execution_count": 467,
   "metadata": {
    "collapsed": false
   },
   "outputs": [],
   "source": [
    "#prepating test data\n",
    "Xte=pd.concat([dum(test['X7']),dum(test['X9'])],axis=1)"
   ]
  },
  {
   "cell_type": "markdown",
   "metadata": {},
   "source": [
    "Predicting with ridge classifier"
   ]
  },
  {
   "cell_type": "code",
   "execution_count": 481,
   "metadata": {
    "collapsed": false
   },
   "outputs": [
    {
     "data": {
      "text/plain": [
       "count    80000.000000\n",
       "mean        15.416918\n",
       "std          0.636854\n",
       "min         13.944138\n",
       "25%         15.037385\n",
       "50%         15.651920\n",
       "75%         15.946009\n",
       "max         16.073439\n",
       "dtype: float64"
      ]
     },
     "execution_count": 481,
     "metadata": {},
     "output_type": "execute_result"
    }
   ],
   "source": [
    "RDGpredictions=RDGmdl.predict(Xte)\n",
    "RDGpredictions=pd.Series(RDGpredictions)\n",
    "RDGpredictions.describe()"
   ]
  },
  {
   "cell_type": "markdown",
   "metadata": {},
   "source": [
    "Predicting with Random Forest classifier."
   ]
  },
  {
   "cell_type": "code",
   "execution_count": 480,
   "metadata": {
    "collapsed": false
   },
   "outputs": [
    {
     "data": {
      "text/plain": [
       "count    80000.000000\n",
       "mean        13.945600\n",
       "std          4.270745\n",
       "min          6.003808\n",
       "25%         10.784590\n",
       "50%         13.711056\n",
       "75%         16.777297\n",
       "max         25.650080\n",
       "dtype: float64"
      ]
     },
     "execution_count": 480,
     "metadata": {},
     "output_type": "execute_result"
    }
   ],
   "source": [
    "RFpredictions=RFmdl.predict(Xte)\n",
    "RFpredictions=pd.Series(rftemp)\n",
    "RFpredictions.describe()"
   ]
  },
  {
   "cell_type": "code",
   "execution_count": 482,
   "metadata": {
    "collapsed": false
   },
   "outputs": [],
   "source": [
    "out=pd.concat([RDGpredictions,RFpredictions],axis=1)\n",
    "out.to_csv('out.csv')"
   ]
  }
 ],
 "metadata": {
  "kernelspec": {
   "display_name": "Python 2",
   "language": "python",
   "name": "python2"
  },
  "language_info": {
   "codemirror_mode": {
    "name": "ipython",
    "version": 2
   },
   "file_extension": ".py",
   "mimetype": "text/x-python",
   "name": "python",
   "nbconvert_exporter": "python",
   "pygments_lexer": "ipython2",
   "version": "2.7.11"
  }
 },
 "nbformat": 4,
 "nbformat_minor": 0
}
